{
  "cells": [
    {
      "cell_type": "markdown",
      "metadata": {
        "id": "re8S5yd8u1eZ"
      },
      "source": [
        "<h2> Python Basics"
      ]
    },
    {
      "cell_type": "markdown",
      "metadata": {
        "id": "5H441cQou1ee"
      },
      "source": [
        "I. Cobalah print kalimat \"Hello, my name is ***nama anda***\" dengan minimal 2 cara: <br>\n",
        "a.   Print biasa (nama diletakkan langsung dalam string yang di print)<br>\n",
        "b.  Menggunakan variabel (nama disimpan dulu di variabel)<br>\n",
        "c.  Menggunakan operator dan variabel<br>\n",
        "d.  Menggunakan .format()"
      ]
    },
    {
      "cell_type": "code",
      "execution_count": 9,
      "metadata": {
        "id": "EJlHc6Ptu1ef",
        "colab": {
          "base_uri": "https://localhost:8080/"
        },
        "outputId": "ccc9f9ab-6af4-4290-9b7f-e31b42699c23"
      },
      "outputs": [
        {
          "output_type": "stream",
          "name": "stdout",
          "text": [
            "Hello, my name is Benito\n",
            "Hello, my name is benito\n",
            "Hello, my name is musolo\n",
            "Hello, my name is Musolo\n"
          ]
        }
      ],
      "source": [
        "print (\"Hello, my name is Benito\")\n",
        "\n",
        "name = \"benito\"\n",
        "print (\"Hello, my name is \" + name)\n",
        "\n",
        "name = \"musolo\"\n",
        "print (\"Hello, my name is\", name)\n",
        "\n",
        "name = \"Musolo\"\n",
        "print(\"Hello, my name is {}\".format(name))\n",
        "\n"
      ]
    },
    {
      "cell_type": "markdown",
      "metadata": {
        "id": "ykD_f9Cfu1eg"
      },
      "source": [
        "II. Selesaikan soal cerita berikut menggunakan python:<br>\n",
        "a.  Jose membeli 4 kotak kelereng, tiap kotak berisi 15 buah kelereng. Kelereng itu akan dibagikan kepada 12 orang temannya, setiap teman akan mendapat ... kelereng.<br>\n",
        "b.  Hasil dari 8 pangkat 1/3 adalah ...<br>\n",
        "c.  Catharina memiliki uang sebesar Rp 50.000 untuk dibelanjakan kertas binder, 1 paket kertas binder isi 100 lembar dijual seharga 7500, jika ia ingin membeli berapa kertas binder yang dapat ia beli dengan uang yang ia punya? Berapa kembalian yang diterima?"
      ]
    },
    {
      "cell_type": "code",
      "execution_count": 17,
      "metadata": {
        "id": "HZMGFAk6u1eg",
        "colab": {
          "base_uri": "https://localhost:8080/"
        },
        "outputId": "8b29e6a3-041d-4431-b826-ed6d32c44a4b"
      },
      "outputs": [
        {
          "output_type": "stream",
          "name": "stdout",
          "text": [
            "5\n",
            "2.0\n",
            "Catharina dapat membeli 6 paket kertas binder.\n",
            "Kembalian yang diterima adalah Rp 5000.\n"
          ]
        }
      ],
      "source": [
        "# Soal a\n",
        "jumlah_kotak = 4\n",
        "kelerengdikotak = 15\n",
        "\n",
        "total_kelereng = jumlah_kotak*kelerengdikotak\n",
        "\n",
        "temanteman = 12\n",
        "\n",
        "kelerengperteman = kelerengdikotak*jumlah_kotak//temanteman\n",
        "print (kelerengdikotak*jumlah_kotak//temanteman)\n",
        "\n",
        "# Soal b\n",
        "hasil = 8**(1/3)\n",
        "print(hasil)\n",
        "\n",
        "# Soal c\n",
        "\n",
        "uang = 50000\n",
        "harga_per_paket = 7500\n",
        "\n",
        "jumlah_paket = uang // harga_per_paket\n",
        "\n",
        "total_harga = jumlah_paket * harga_per_paket\n",
        "\n",
        "kembalian = uang - total_harga\n",
        "\n",
        "print(f\"Catharina dapat membeli {jumlah_paket} paket kertas binder.\")\n",
        "print(f\"Kembalian yang diterima adalah Rp {kembalian}.\")"
      ]
    },
    {
      "cell_type": "markdown",
      "metadata": {
        "id": "ogSVphwKu1eh"
      },
      "source": [
        "III. Tunjukan cara untuk mengonversi tipe-tipe data berikut:\n",
        "\n",
        "1. \"1000\" -> 1000 (string ke int)\n",
        "2. 5.25 -> 5 (float ke int)\n",
        "3. 5 -> 5.0 (int ke float)\n",
        "4. 1000 -> \"1000\" (int ke string)\n",
        "\n",
        "Expected output:\n",
        "\n",
        "\n",
        "![image.png](data:image/png;base64,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)"
      ]
    },
    {
      "cell_type": "code",
      "execution_count": 26,
      "metadata": {
        "id": "1380euOQu1ei",
        "colab": {
          "base_uri": "https://localhost:8080/"
        },
        "outputId": "05cf7e70-2391-4fa5-ebd3-405133447317"
      },
      "outputs": [
        {
          "output_type": "stream",
          "name": "stdout",
          "text": [
            "1000 <class 'int'>\n",
            "5 <class 'int'>\n",
            "5.0 <class 'float'>\n",
            "1000 <class 'str'>\n"
          ]
        }
      ],
      "source": [
        "string_ke_int = int(\"1000\")\n",
        "print(f\"{string_ke_int} {type(string_ke_int)}\")\n",
        "\n",
        "float_ke_int = int(5.25)\n",
        "print(f\"{float_ke_int} {type(float_ke_int)}\")\n",
        "\n",
        "int_ke_float = float(5.0)\n",
        "print(f\"{int_ke_float} {type(int_ke_float)}\")\n",
        "\n",
        "int_ke_string = str(1000)\n",
        "print(f\"{int_ke_string} {type(int_ke_string)}\")"
      ]
    },
    {
      "cell_type": "markdown",
      "metadata": {
        "id": "DhXG-jySu1ej"
      },
      "source": [
        "IV. String\n",
        "\n",
        "\"If you want to know what a man's like, take a good look at how he treats his inferiors, not his equals.\"\n",
        "\n",
        "1. Tampilkan indeks ke 20 sampai 30 dari string di atas (indeks ke 30 ikut)\n",
        "2. Bagaimana cara memisah string berdasarkan spasi (simpan dalam list)\n",
        "3. Balik string di atas dengan menggunakan satu baris kode (menggunakan index)\n"
      ]
    },
    {
      "cell_type": "code",
      "execution_count": 32,
      "metadata": {
        "id": "kUE0OZhIu1ek",
        "colab": {
          "base_uri": "https://localhost:8080/"
        },
        "outputId": "7609cfd4-2e77-4f4d-b462-5f2ce87b7887"
      },
      "outputs": [
        {
          "output_type": "stream",
          "name": "stdout",
          "text": [
            "what a man'\n",
            "['If', 'you', 'want', 'to', 'know', 'what', 'a', \"man's\", 'like,', 'take', 'a', 'good', 'look', 'at', 'how', 'he', 'treats', 'his', 'inferiors,', 'not', 'his', 'equals.']\n",
            ".slauqe sih ton ,sroirefni sih staert eh woh ta kool doog a ekat ,ekil s'nam a tahw wonk ot tnaw uoy fI\n"
          ]
        }
      ],
      "source": [
        "# 1\n",
        "text = \"If you want to know what a man's like, take a good look at how he treats his inferiors, not his equals.\"\n",
        "substring = text[20:31]\n",
        "print(substring)\n",
        "\n",
        "\n",
        "# 2\n",
        "list_kata = text.split()\n",
        "print(list_kata)\n",
        "\n",
        "# 3\n",
        "reversed_text = text[::-1]\n",
        "print(reversed_text)\n"
      ]
    },
    {
      "cell_type": "markdown",
      "metadata": {
        "id": "PFAMzNc6u1el"
      },
      "source": [
        "<h2> Python Data Strcutures"
      ]
    },
    {
      "cell_type": "markdown",
      "metadata": {
        "id": "m9AKxWKzu1el"
      },
      "source": [
        "I. Tuple\n",
        "\n",
        "\n",
        "1.   Buatlah sebuah tuple yang berisikan nama fakultas di UC, simpan dalam variabel \"fakultas\".\n",
        "2.   Cetaklah jumlah fakultas di UC dengan mencari panjang tuple yang dibuat.\n",
        "3.   Gunakan .index() untuk mengetahui posisi/index fakultas SIFT"
      ]
    },
    {
      "cell_type": "code",
      "execution_count": 1,
      "metadata": {
        "colab": {
          "base_uri": "https://localhost:8080/"
        },
        "id": "sA1w4YBcu1em",
        "outputId": "cb1e15de-1e9f-47d0-dbb6-9b20e025bd18"
      },
      "outputs": [
        {
          "output_type": "stream",
          "name": "stdout",
          "text": [
            "Jumlah fakultas di UC: 10\n",
            "Posisi fakultas SIFT di tuple: 8\n"
          ]
        }
      ],
      "source": [
        "# Fakultas\n",
        "fakultas = (\"Fakultas Bisnis\", \"Fakultas Creative Industri\", \"Fakultas Tourism\", \"Fakultas Kedokteran\", \"FKG\", \"Fikom\", \"PSY\",\"SEH\",\"SIFT\",\"UC Online\")\n",
        "jumlah_fakultas = len(fakultas)\n",
        "print(\"Jumlah fakultas di UC:\", jumlah_fakultas)\n",
        "index_sift = fakultas.index(\"SIFT\")\n",
        "print(\"Posisi fakultas SIFT di tuple:\", index_sift)"
      ]
    },
    {
      "cell_type": "markdown",
      "metadata": {
        "id": "SiOS0ttQu1em"
      },
      "source": [
        "II. List\n",
        "\n",
        "\n",
        "1.   Buatlah sebuah list berisi 3 nama makanan kesukaanmu. Simpan dalam variabel \"favorit\".\n",
        "2.   Cetak nama setiap makanan dengan mengakses setiap elemen dalam list satu persatu.\n",
        "3. Kamu sedang berada di sebuah restoran dan hendak memesan salah satu menu yang ada dalam daftar favoritmu. Cetak setiap makanan dengan contoh: \"Aku ingin pesan {nama makanan}\"\n",
        "4.   Ternyata, salah satu menu tidak tersedia, jadi kamu perlu memesan makanan lain. Ganti salah satu makanan favoritmu yang kosong dengan nama makanan baru (makanan yang mana bebas). Cetak makanan favorit barumu dengan contoh: \"Aku ingin mengganti pesananku jadi {nama makanan baru}\""
      ]
    },
    {
      "cell_type": "code",
      "execution_count": 3,
      "metadata": {
        "colab": {
          "base_uri": "https://localhost:8080/"
        },
        "id": "9fuI3hJ7u1en",
        "outputId": "9ecb7388-a968-4357-d4f9-26ce5477b40d"
      },
      "outputs": [
        {
          "output_type": "stream",
          "name": "stdout",
          "text": [
            "Bakso\n",
            "Sashimi\n",
            "Nasi Uduk\n",
            "Aku ingin pesan Bakso\n",
            "Aku ingin pesan Sashimi\n",
            "Aku ingin pesan Nasi Uduk\n",
            "Aku ingin mengganti pesananku jadi Spaghetti\n"
          ]
        }
      ],
      "source": [
        "# 1\n",
        "favorit = [\"Bakso\", \"Sashimi\", \"Nasi Uduk\"]\n",
        "\n",
        "# 2\n",
        "for makanan in favorit:\n",
        "    print(makanan)\n",
        "\n",
        "# 3\n",
        "for makanan in favorit:\n",
        "    print(f\"Aku ingin pesan {makanan}\")\n",
        "\n",
        "# 4\n",
        "favorit[0] = \"Spaghetti\"  # Changing Bakso with Spaghetti\n",
        "print(f\"Aku ingin mengganti pesananku jadi {favorit[0]}\")\n",
        "\n",
        "\n"
      ]
    },
    {
      "cell_type": "markdown",
      "metadata": {
        "id": "YWl87pecu1en"
      },
      "source": [
        "III. Set\n",
        "\n",
        "1. Buatlah 4 buah set sebagai berikut\n",
        "\n",
        "\n",
        "    set1 = {1, 2, 3, 4}\n",
        "    set2 = {2, 4, 6, 8}\n",
        "    set3 = {5, 7}\n",
        "    set4 = {2, 3}\n",
        "2. Gabungkan set1 dan set2 dengan menghilangkan duplicates\n",
        "3. Buktikan set1 dan set3 tidak mempunyai intersection (output : Boolean)\n",
        "4. Buktikan set4 adalah bagian dari set1 (output : Boolean)"
      ]
    },
    {
      "cell_type": "code",
      "execution_count": 4,
      "metadata": {
        "id": "Qgx8YGSpu1en",
        "colab": {
          "base_uri": "https://localhost:8080/"
        },
        "outputId": "c2eb1586-03a5-4706-ec5f-fd3a5d196e48"
      },
      "outputs": [
        {
          "output_type": "stream",
          "name": "stdout",
          "text": [
            "{1, 2, 3, 4, 6, 8}\n",
            "True\n",
            "True\n"
          ]
        }
      ],
      "source": [
        "\n",
        "set1 = {1, 2, 3, 4}\n",
        "set2 = {2, 4, 6, 8}\n",
        "set3 = {5, 7}\n",
        "set4 = {2, 3}\n",
        "\n",
        "gabungan_set = set1.union(set2)\n",
        "print(gabungan_set)  # Output: {1, 2, 3, 4, 6, 8}\n",
        "\n",
        "\n",
        "intersection_exists = not set1.intersection(set3)\n",
        "print(intersection_exists)  # Output: True\n",
        "\n",
        "is_subset = set4.issubset(set1)\n",
        "print(is_subset)  # Output: True\n"
      ]
    },
    {
      "cell_type": "markdown",
      "metadata": {
        "id": "uhpPy3xWu1en"
      },
      "source": [
        "<h2> Python Programming Fundamentals"
      ]
    },
    {
      "cell_type": "markdown",
      "metadata": {
        "id": "OEgpX5aYu1eo"
      },
      "source": [
        "I. Buatlah sebuah program sederhana yang meminta inputan dari user berupa jumlah penggunaan listrik (munculkan error jika input selain angka) dan menghasilkan output berupa tarif yang harus dibayar dengan syarat sebagai berikut:\n",
        "\n",
        "PLN menerapkan pembayaran listrik perumahan dengan perhitungan sebagai berikut:\n",
        "* untuk golongan 1 (penggunaan <1000 kWh) tarif : Rp1000/kWh\n",
        "* untuk golongan 2 (penggunaan >= 1000 kWh) tarif : Rp2000/kWh\n",
        "\n",
        "Dengan syarat perhitungan:\n",
        "\n",
        "Minimum pembayaran adalah 100 kWh sedangkan untuk pemakaian 1000 kWh dan seterusnya tarifnya ditambah 10% dari total pembayaran.\n",
        "\n",
        "(Jika total penggunaan <100 kWh, maka akan dikenakan tarif 100 kWh)"
      ]
    },
    {
      "cell_type": "code",
      "execution_count": null,
      "metadata": {
        "id": "Q6vIyfIdu1eo"
      },
      "outputs": [],
      "source": [
        "# Program Bayar Listrik\n",
        "\n",
        "def hitung_tarif(penggunaan):\n",
        "    # Menentukan tarif berdasarkan penggunaan\n",
        "    if penggunaan < 1000:\n",
        "        tarif_per_kWh = 1000\n",
        "    else:\n",
        "        tarif_per_kWh = 2000\n",
        "\n",
        "    # Minimum penggunaan adalah 100 kWh\n",
        "    if penggunaan < 100:\n",
        "        penggunaan = 100\n",
        "\n",
        "    # Menghitung total pembayaran\n",
        "    total_pembayaran = penggunaan * tarif_per_kWh\n",
        "\n",
        "    # Jika pemakaian >= 1000 kWh, tambahkan 10% dari total pembayaran\n",
        "    if penggunaan >= 1000:\n",
        "        total_pembayaran *= 1.1\n",
        "\n",
        "    return total_pembayaran\n",
        "\n",
        "def main():\n",
        "    try:\n",
        "        # Meminta input dari pengguna\n",
        "        penggunaan = float(input(\"Masukkan jumlah penggunaan listrik (kWh): \"))\n",
        "\n",
        "        # Menghitung tarif\n",
        "        total_bayar = hitung_tarif(penggunaan)\n",
        "\n",
        "        # Menampilkan hasil\n",
        "        print(f\"Total tarif yang harus dibayar: Rp {total_bayar:.2f}\")\n",
        "\n",
        "    except ValueError:\n",
        "        print(\"Error: Masukkan angka yang valid.\")\n",
        "\n",
        "# Menjalankan program\n",
        "if __name__ == \"__main__\":\n",
        "    main()\n",
        "\n"
      ]
    },
    {
      "cell_type": "markdown",
      "metadata": {
        "id": "Bqp7xI2Nu1eo"
      },
      "source": [
        "II. Untuk Abdimas Oweek UC digunakan angkot dengan kapasitas 10 orang per angkot. Apabila terjadi kelebihan penumpang (walau hanya 1 orang), angkot yang digunakan ditambah 1. Tulislah program untuk menghitung jumlah angkot yang diperlukan bila jumlah pesertanya menggunakan input().\n",
        "\n",
        "Catatan, pastikan jika angka yang dimasukkan negatif, muncul peringatan \"Jumlah orang tidak bisa negatif!\""
      ]
    },
    {
      "cell_type": "code",
      "execution_count": 6,
      "metadata": {
        "id": "C8thFHRbu1ep",
        "colab": {
          "base_uri": "https://localhost:8080/"
        },
        "outputId": "6969ddb6-e819-42e2-e660-7688011b1a6c"
      },
      "outputs": [
        {
          "output_type": "stream",
          "name": "stdout",
          "text": [
            "Masukkan jumlah peserta: -5\n",
            "Jumlah orang tidak bisa negatif!\n"
          ]
        }
      ],
      "source": [
        "# Program Angkot Abdimas UC\n",
        "\n",
        "def hitung_jumlah_angkot(jumlah_peserta):\n",
        "    kapasitas_angkot = 10\n",
        "    if jumlah_peserta <= 0:\n",
        "        return 0  # Tidak ada angkot jika peserta 0 atau kurang\n",
        "    # Menghitung jumlah angkot yang diperlukan\n",
        "    return (jumlah_peserta // kapasitas_angkot) + (1 if jumlah_peserta % kapasitas_angkot > 0 else 0)\n",
        "\n",
        "def main():\n",
        "    try:\n",
        "        # Meminta input dari pengguna\n",
        "        jumlah_peserta = int(input(\"Masukkan jumlah peserta: \"))\n",
        "\n",
        "        if jumlah_peserta < 0:\n",
        "            print(\"Jumlah orang tidak bisa negatif!\")\n",
        "            return\n",
        "\n",
        "        # Menghitung jumlah angkot yang diperlukan\n",
        "        jumlah_angkot = hitung_jumlah_angkot(jumlah_peserta)\n",
        "\n",
        "        # Menampilkan hasil\n",
        "        print(f\"Jumlah angkot yang diperlukan: {jumlah_angkot}\")\n",
        "\n",
        "    except ValueError:\n",
        "        print(\"Error: Masukkan angka yang valid.\")\n",
        "\n",
        "# Menjalankan program\n",
        "if __name__ == \"__main__\":\n",
        "    main()\n",
        "\n"
      ]
    },
    {
      "cell_type": "markdown",
      "metadata": {
        "id": "zmpc0H2cu1ep"
      },
      "source": [
        "<h2> Numpy"
      ]
    },
    {
      "cell_type": "markdown",
      "metadata": {
        "id": "NH_6KTdZu1ep"
      },
      "source": [
        "1. Buatlah 1D numpy array berisi nama nama hari dalam satu minggu\n",
        "2. Gunakan sort untuk mengurutkan array sesuai abjad\n",
        "3. Gunakan random untuk mengambil 1 hari dari array, cetakhlah dalam format: \"Selamat hari \\<nama hari\\> adalah hari baikmu bulan ini!\"\n",
        "4. Buat dan cetaklah matriks 3x4 menggunakan numpy array berisi angka random dari 1-6, lalu cetak shape dan dimensi array\n",
        "5. Cetaklah elemen kolom ketiga dari matrix\n",
        "\n",
        "    [[1 ,2, 3, 4],\n",
        "\n",
        "    [5, 6, 7, 8],\n",
        "\n",
        "    [9, 10, 11, 12]]\n",
        "6. Gunakan reshape untuk mengubah matrix di atas menjadi matriks berukuran (2, 6)"
      ]
    },
    {
      "cell_type": "code",
      "execution_count": null,
      "metadata": {
        "id": "7u2L4rYWu1ep"
      },
      "outputs": [],
      "source": [
        "import numpy as np\n",
        "import random\n",
        "\n",
        "# 1\n",
        "# Membuat array nama hari\n",
        "hari = np.array(['Senin', 'Selasa', 'Rabu', 'Kamis', 'Jumat', 'Sabtu', 'Minggu'])\n",
        "\n",
        "\n",
        "\n"
      ]
    },
    {
      "cell_type": "code",
      "source": [
        "# 2\n",
        "# Mengurutkan array sesuai abjad\n",
        "hari_sorted = np.sort(hari)\n",
        "print(\"Hari-hari dalam seminggu yang telah diurutkan\", hari_sorted)\n"
      ],
      "metadata": {
        "id": "7aI1VcHsInbd"
      },
      "execution_count": null,
      "outputs": []
    },
    {
      "cell_type": "code",
      "source": [
        "#3\n",
        "# Mengambil 1 hari secara acak\n",
        "hari_acak = random.choice(hari_sorted)\n",
        "print(f\"Selamat hari {hari_acak} adalah hari baikmu bulan ini!\")"
      ],
      "metadata": {
        "id": "1KahrwRLIo9j"
      },
      "execution_count": null,
      "outputs": []
    },
    {
      "cell_type": "code",
      "source": [
        "# 4. Membuat matriks 3x4 dengan angka random dari 1 hingga 6\n",
        "matriks = np.random.randint(1, 7, size=(3, 4))\n",
        "print(\"Matriks 3x4:\")\n",
        "print(matriks)\n",
        "print(f\"Shape: {matriks.shape}\")\n",
        "print(f\"Dimensi: {matriks.ndim}\")\n"
      ],
      "metadata": {
        "id": "9i8pmTJxIqwg"
      },
      "execution_count": null,
      "outputs": []
    },
    {
      "cell_type": "code",
      "execution_count": null,
      "metadata": {
        "id": "deanH7rbNQDz"
      },
      "outputs": [],
      "source": [
        "# 5 Mencetak elemen kolom ketiga\n",
        "kolom_ketiga = matriks[:, 2]\n",
        "print(\"Elemen kolom ketiga:\")\n",
        "print(kolom_ketiga)\n"
      ]
    },
    {
      "cell_type": "code",
      "source": [
        "# 6 Mengubah matriks menjadi ukuran (2, 6)\n",
        "matriks_awal = np.array([[1, 2, 3, 4],\n",
        "                         [5, 6, 7, 8],\n",
        "                         [9, 10, 11, 12]])\n",
        "matriks_reshape = matriks_awal.reshape(2, 6)\n",
        "print(\"Matriks setelah reshape menjadi (2, 6):\")\n",
        "print(matriks_reshap\n"
      ],
      "metadata": {
        "id": "8SDYNL0-IxIE"
      },
      "execution_count": null,
      "outputs": []
    },
    {
      "cell_type": "markdown",
      "metadata": {
        "id": "IJ-xiFGCu1ep"
      },
      "source": [
        "<h2> Pandas"
      ]
    },
    {
      "cell_type": "markdown",
      "metadata": {
        "id": "W1GPuTsQu1eq"
      },
      "source": [
        "1. Buatlah Pandas Series dari list [\"Information\", \"Systems\", \"for\", \"Business\"]\n",
        "2. Buatlah Pandas Dataframe dari dictionary\n",
        "{ \"brand\": \"Ford\", \"model\": \"Mustang\", \"year\": 1964 }"
      ]
    },
    {
      "cell_type": "code",
      "execution_count": 5,
      "metadata": {
        "id": "btISSDM7u1eq",
        "colab": {
          "base_uri": "https://localhost:8080/",
          "height": 228
        },
        "outputId": "d34b0642-a75b-491d-ce04-469c5acb14ac"
      },
      "outputs": [
        {
          "output_type": "stream",
          "name": "stdout",
          "text": [
            "Pandas Series:\n",
            "0    Information\n",
            "1        Systems\n",
            "2            for\n",
            "3       Business\n",
            "dtype: object\n",
            "\n",
            "Pandas DataFrame:\n"
          ]
        },
        {
          "output_type": "execute_result",
          "data": {
            "text/plain": [
              "  brand    model  year\n",
              "0  Ford  Mustang  1964"
            ],
            "text/html": [
              "\n",
              "  <div id=\"df-9bf28bcd-1607-4433-b125-9326443de055\" class=\"colab-df-container\">\n",
              "    <div>\n",
              "<style scoped>\n",
              "    .dataframe tbody tr th:only-of-type {\n",
              "        vertical-align: middle;\n",
              "    }\n",
              "\n",
              "    .dataframe tbody tr th {\n",
              "        vertical-align: top;\n",
              "    }\n",
              "\n",
              "    .dataframe thead th {\n",
              "        text-align: right;\n",
              "    }\n",
              "</style>\n",
              "<table border=\"1\" class=\"dataframe\">\n",
              "  <thead>\n",
              "    <tr style=\"text-align: right;\">\n",
              "      <th></th>\n",
              "      <th>brand</th>\n",
              "      <th>model</th>\n",
              "      <th>year</th>\n",
              "    </tr>\n",
              "  </thead>\n",
              "  <tbody>\n",
              "    <tr>\n",
              "      <th>0</th>\n",
              "      <td>Ford</td>\n",
              "      <td>Mustang</td>\n",
              "      <td>1964</td>\n",
              "    </tr>\n",
              "  </tbody>\n",
              "</table>\n",
              "</div>\n",
              "    <div class=\"colab-df-buttons\">\n",
              "\n",
              "  <div class=\"colab-df-container\">\n",
              "    <button class=\"colab-df-convert\" onclick=\"convertToInteractive('df-9bf28bcd-1607-4433-b125-9326443de055')\"\n",
              "            title=\"Convert this dataframe to an interactive table.\"\n",
              "            style=\"display:none;\">\n",
              "\n",
              "  <svg xmlns=\"http://www.w3.org/2000/svg\" height=\"24px\" viewBox=\"0 -960 960 960\">\n",
              "    <path d=\"M120-120v-720h720v720H120Zm60-500h600v-160H180v160Zm220 220h160v-160H400v160Zm0 220h160v-160H400v160ZM180-400h160v-160H180v160Zm440 0h160v-160H620v160ZM180-180h160v-160H180v160Zm440 0h160v-160H620v160Z\"/>\n",
              "  </svg>\n",
              "    </button>\n",
              "\n",
              "  <style>\n",
              "    .colab-df-container {\n",
              "      display:flex;\n",
              "      gap: 12px;\n",
              "    }\n",
              "\n",
              "    .colab-df-convert {\n",
              "      background-color: #E8F0FE;\n",
              "      border: none;\n",
              "      border-radius: 50%;\n",
              "      cursor: pointer;\n",
              "      display: none;\n",
              "      fill: #1967D2;\n",
              "      height: 32px;\n",
              "      padding: 0 0 0 0;\n",
              "      width: 32px;\n",
              "    }\n",
              "\n",
              "    .colab-df-convert:hover {\n",
              "      background-color: #E2EBFA;\n",
              "      box-shadow: 0px 1px 2px rgba(60, 64, 67, 0.3), 0px 1px 3px 1px rgba(60, 64, 67, 0.15);\n",
              "      fill: #174EA6;\n",
              "    }\n",
              "\n",
              "    .colab-df-buttons div {\n",
              "      margin-bottom: 4px;\n",
              "    }\n",
              "\n",
              "    [theme=dark] .colab-df-convert {\n",
              "      background-color: #3B4455;\n",
              "      fill: #D2E3FC;\n",
              "    }\n",
              "\n",
              "    [theme=dark] .colab-df-convert:hover {\n",
              "      background-color: #434B5C;\n",
              "      box-shadow: 0px 1px 3px 1px rgba(0, 0, 0, 0.15);\n",
              "      filter: drop-shadow(0px 1px 2px rgba(0, 0, 0, 0.3));\n",
              "      fill: #FFFFFF;\n",
              "    }\n",
              "  </style>\n",
              "\n",
              "    <script>\n",
              "      const buttonEl =\n",
              "        document.querySelector('#df-9bf28bcd-1607-4433-b125-9326443de055 button.colab-df-convert');\n",
              "      buttonEl.style.display =\n",
              "        google.colab.kernel.accessAllowed ? 'block' : 'none';\n",
              "\n",
              "      async function convertToInteractive(key) {\n",
              "        const element = document.querySelector('#df-9bf28bcd-1607-4433-b125-9326443de055');\n",
              "        const dataTable =\n",
              "          await google.colab.kernel.invokeFunction('convertToInteractive',\n",
              "                                                    [key], {});\n",
              "        if (!dataTable) return;\n",
              "\n",
              "        const docLinkHtml = 'Like what you see? Visit the ' +\n",
              "          '<a target=\"_blank\" href=https://colab.research.google.com/notebooks/data_table.ipynb>data table notebook</a>'\n",
              "          + ' to learn more about interactive tables.';\n",
              "        element.innerHTML = '';\n",
              "        dataTable['output_type'] = 'display_data';\n",
              "        await google.colab.output.renderOutput(dataTable, element);\n",
              "        const docLink = document.createElement('div');\n",
              "        docLink.innerHTML = docLinkHtml;\n",
              "        element.appendChild(docLink);\n",
              "      }\n",
              "    </script>\n",
              "  </div>\n",
              "\n",
              "\n",
              "  <div id=\"id_d808202f-dc2f-4a81-97d5-04e8951c449e\">\n",
              "    <style>\n",
              "      .colab-df-generate {\n",
              "        background-color: #E8F0FE;\n",
              "        border: none;\n",
              "        border-radius: 50%;\n",
              "        cursor: pointer;\n",
              "        display: none;\n",
              "        fill: #1967D2;\n",
              "        height: 32px;\n",
              "        padding: 0 0 0 0;\n",
              "        width: 32px;\n",
              "      }\n",
              "\n",
              "      .colab-df-generate:hover {\n",
              "        background-color: #E2EBFA;\n",
              "        box-shadow: 0px 1px 2px rgba(60, 64, 67, 0.3), 0px 1px 3px 1px rgba(60, 64, 67, 0.15);\n",
              "        fill: #174EA6;\n",
              "      }\n",
              "\n",
              "      [theme=dark] .colab-df-generate {\n",
              "        background-color: #3B4455;\n",
              "        fill: #D2E3FC;\n",
              "      }\n",
              "\n",
              "      [theme=dark] .colab-df-generate:hover {\n",
              "        background-color: #434B5C;\n",
              "        box-shadow: 0px 1px 3px 1px rgba(0, 0, 0, 0.15);\n",
              "        filter: drop-shadow(0px 1px 2px rgba(0, 0, 0, 0.3));\n",
              "        fill: #FFFFFF;\n",
              "      }\n",
              "    </style>\n",
              "    <button class=\"colab-df-generate\" onclick=\"generateWithVariable('dataframe')\"\n",
              "            title=\"Generate code using this dataframe.\"\n",
              "            style=\"display:none;\">\n",
              "\n",
              "  <svg xmlns=\"http://www.w3.org/2000/svg\" height=\"24px\"viewBox=\"0 0 24 24\"\n",
              "       width=\"24px\">\n",
              "    <path d=\"M7,19H8.4L18.45,9,17,7.55,7,17.6ZM5,21V16.75L18.45,3.32a2,2,0,0,1,2.83,0l1.4,1.43a1.91,1.91,0,0,1,.58,1.4,1.91,1.91,0,0,1-.58,1.4L9.25,21ZM18.45,9,17,7.55Zm-12,3A5.31,5.31,0,0,0,4.9,8.1,5.31,5.31,0,0,0,1,6.5,5.31,5.31,0,0,0,4.9,4.9,5.31,5.31,0,0,0,6.5,1,5.31,5.31,0,0,0,8.1,4.9,5.31,5.31,0,0,0,12,6.5,5.46,5.46,0,0,0,6.5,12Z\"/>\n",
              "  </svg>\n",
              "    </button>\n",
              "    <script>\n",
              "      (() => {\n",
              "      const buttonEl =\n",
              "        document.querySelector('#id_d808202f-dc2f-4a81-97d5-04e8951c449e button.colab-df-generate');\n",
              "      buttonEl.style.display =\n",
              "        google.colab.kernel.accessAllowed ? 'block' : 'none';\n",
              "\n",
              "      buttonEl.onclick = () => {\n",
              "        google.colab.notebook.generateWithVariable('dataframe');\n",
              "      }\n",
              "      })();\n",
              "    </script>\n",
              "  </div>\n",
              "\n",
              "    </div>\n",
              "  </div>\n"
            ],
            "application/vnd.google.colaboratory.intrinsic+json": {
              "type": "dataframe",
              "variable_name": "dataframe",
              "summary": "{\n  \"name\": \"dataframe\",\n  \"rows\": 1,\n  \"fields\": [\n    {\n      \"column\": \"brand\",\n      \"properties\": {\n        \"dtype\": \"string\",\n        \"num_unique_values\": 1,\n        \"samples\": [\n          \"Ford\"\n        ],\n        \"semantic_type\": \"\",\n        \"description\": \"\"\n      }\n    },\n    {\n      \"column\": \"model\",\n      \"properties\": {\n        \"dtype\": \"string\",\n        \"num_unique_values\": 1,\n        \"samples\": [\n          \"Mustang\"\n        ],\n        \"semantic_type\": \"\",\n        \"description\": \"\"\n      }\n    },\n    {\n      \"column\": \"year\",\n      \"properties\": {\n        \"dtype\": \"number\",\n        \"std\": null,\n        \"min\": 1964,\n        \"max\": 1964,\n        \"num_unique_values\": 1,\n        \"samples\": [\n          1964\n        ],\n        \"semantic_type\": \"\",\n        \"description\": \"\"\n      }\n    }\n  ]\n}"
            }
          },
          "metadata": {},
          "execution_count": 5
        }
      ],
      "source": [
        "import pandas as pd\n",
        "\n",
        "# 1\n",
        "import pandas as pd\n",
        "\n",
        "data_list = [\"Information\", \"Systems\", \"for\", \"Business\"]\n",
        "series = pd.Series(data_list)\n",
        "\n",
        "print(\"Pandas Series:\")\n",
        "print(series)\n",
        "\n",
        "\n",
        "\n",
        "# 2\n",
        "data_dict = { \"brand\": \"Ford\", \"model\": \"Mustang\", \"year\": 1964 }\n",
        "dataframe = pd.DataFrame([data_dict])  # Membungkus dictionary dalam list\n",
        "\n",
        "print(\"\\nPandas DataFrame:\")\n",
        "dataframe"
      ]
    },
    {
      "cell_type": "markdown",
      "metadata": {
        "id": "K6iLqp69u1eq"
      },
      "source": [
        "3. Import dataset berikut kedalam dataframe.    \n",
        "dataset : https://raw.githubusercontent.com/GTerrence/dataset/main/50_Startups.csv.xls\n",
        "4. Tunjukan kota apa saja yang ada dalam dataset tersebut\n",
        "5. Buatlah dataset baru yang menyimpan 10 row random dari dataset. Kemudian tunjukanlah 5 row pertamanya.\n",
        "6. Gunakan df.info() untuk melihat informasi singkat dari dataframe\n",
        "7. Tampilkan data 'R&D Spend' dan 'Marketing Spend' dari data yang berasal dari kota 'California'\n",
        "8. Temukan apa ada missing value dari setiap kolom\n",
        "9. Drop data yang memiliki profit di bawah 50000\n",
        "10. Urutkan Dataframe berdasarkan biaya marketing mulai dari terbesar ke terkecil"
      ]
    },
    {
      "cell_type": "code",
      "execution_count": 10,
      "metadata": {
        "id": "Zz-a6B-Au1er",
        "colab": {
          "base_uri": "https://localhost:8080/"
        },
        "outputId": "f149be75-d1ea-409b-e3ff-8208c9c27a89"
      },
      "outputs": [
        {
          "output_type": "stream",
          "name": "stdout",
          "text": [
            "5 Baris Pertama dari DataFrame:\n",
            "   R&D Spend  Administration  Marketing Spend       State     Profit\n",
            "0  165349.20       136897.80        471784.10    New York  192261.83\n",
            "1  162597.70       151377.59        443898.53  California  191792.06\n",
            "2  153441.51       101145.55        407934.54     Florida  191050.39\n",
            "3  144372.41       118671.85        383199.62    New York  182901.99\n",
            "4  142107.34        91391.77        366168.42     Florida  166187.94\n"
          ]
        }
      ],
      "source": [
        "# 3\n",
        "import pandas as pd\n",
        "\n",
        "# Mengimpor dataset dari URL\n",
        "\n",
        "df = pd.read_csv(\"https://raw.githubusercontent.com/GTerrence/dataset/main/50_Startups.csv.xls\")\n",
        "\n",
        "# Menampilkan 5 baris pertama dari DataFrame\n",
        "print(\"5 Baris Pertama dari DataFrame:\")\n",
        "print(df.head())"
      ]
    },
    {
      "cell_type": "code",
      "execution_count": 11,
      "metadata": {
        "id": "8hsqamWrCimw",
        "colab": {
          "base_uri": "https://localhost:8080/"
        },
        "outputId": "da6a7caa-284f-43e4-f0f1-ec486028d8cd"
      },
      "outputs": [
        {
          "output_type": "stream",
          "name": "stdout",
          "text": [
            "\n",
            "Kota yang ada dalam dataset:\n",
            "['New York' 'California' 'Florida']\n"
          ]
        }
      ],
      "source": [
        "# 4\n",
        "kota_unik = df['State'].unique()\n",
        "print(\"\\nKota yang ada dalam dataset:\")\n",
        "print(kota_unik)"
      ]
    },
    {
      "cell_type": "code",
      "execution_count": 12,
      "metadata": {
        "id": "xCcT75YOCmX3",
        "colab": {
          "base_uri": "https://localhost:8080/"
        },
        "outputId": "4c87770b-7127-4cd7-99e6-c47e24201052"
      },
      "outputs": [
        {
          "output_type": "stream",
          "name": "stdout",
          "text": [
            "\n",
            "5 Baris Pertama dari Dataset Random:\n",
            "    R&D Spend  Administration  Marketing Spend       State     Profit\n",
            "27   72107.60       127864.55        353183.81    New York  105008.31\n",
            "35   46014.02        85047.44        205517.64    New York   96479.51\n",
            "40   28754.33       118546.05        172795.67  California   78239.91\n",
            "38   20229.59        65947.93        185265.10    New York   81229.06\n",
            "2   153441.51       101145.55        407934.54     Florida  191050.39\n"
          ]
        }
      ],
      "source": [
        "# 5\n",
        "df_random = df.sample(n=10, random_state=1)\n",
        "\n",
        "print(\"\\n5 Baris Pertama dari Dataset Random:\")\n",
        "print(df_random.head())"
      ]
    },
    {
      "cell_type": "code",
      "execution_count": 13,
      "metadata": {
        "id": "kgHgGEVoCqGR",
        "colab": {
          "base_uri": "https://localhost:8080/"
        },
        "outputId": "80b06eaf-2691-4a4c-9bb7-a145460c7431"
      },
      "outputs": [
        {
          "output_type": "stream",
          "name": "stdout",
          "text": [
            "\n",
            "Informasi Singkat dari DataFrame:\n",
            "<class 'pandas.core.frame.DataFrame'>\n",
            "RangeIndex: 50 entries, 0 to 49\n",
            "Data columns (total 5 columns):\n",
            " #   Column           Non-Null Count  Dtype  \n",
            "---  ------           --------------  -----  \n",
            " 0   R&D Spend        50 non-null     float64\n",
            " 1   Administration   50 non-null     float64\n",
            " 2   Marketing Spend  50 non-null     float64\n",
            " 3   State            50 non-null     object \n",
            " 4   Profit           50 non-null     float64\n",
            "dtypes: float64(4), object(1)\n",
            "memory usage: 2.1+ KB\n",
            "None\n"
          ]
        }
      ],
      "source": [
        "# 6\n",
        "print(\"\\nInformasi Singkat dari DataFrame:\")\n",
        "print(df.info())"
      ]
    },
    {
      "cell_type": "code",
      "execution_count": 14,
      "metadata": {
        "id": "Mc3zul5PA2TD",
        "colab": {
          "base_uri": "https://localhost:8080/"
        },
        "outputId": "16fb9f9e-d12b-4348-e79d-dc8a1ef79281"
      },
      "outputs": [
        {
          "output_type": "stream",
          "name": "stdout",
          "text": [
            "\n",
            "R&D Spend dan Marketing Spend dari Kota California:\n",
            "    R&D Spend  Marketing Spend\n",
            "1   162597.70        443898.53\n",
            "6   134615.46        127716.82\n",
            "9   123334.88        304981.62\n",
            "11  100671.96        249744.55\n",
            "13   91992.39        252664.93\n",
            "16   78013.11        264346.06\n",
            "20   76253.86        298664.47\n",
            "25   64664.71        137962.62\n",
            "32   63408.86         46085.25\n",
            "34   46426.07        210797.67\n",
            "37   44069.95        197029.42\n",
            "39   38558.51        174999.30\n",
            "40   28754.33        172795.67\n",
            "42   23640.93        148001.11\n",
            "44   22177.74         28334.72\n",
            "47       0.00             0.00\n",
            "49       0.00         45173.06\n"
          ]
        }
      ],
      "source": [
        "# 7\n",
        "california_spend = df[df['State'] == 'California'][['R&D Spend', 'Marketing Spend']]\n",
        "print(\"\\nR&D Spend dan Marketing Spend dari Kota California:\")\n",
        "print(california_spend)"
      ]
    },
    {
      "cell_type": "code",
      "execution_count": 15,
      "metadata": {
        "id": "M1SY-gGACRy0",
        "colab": {
          "base_uri": "https://localhost:8080/"
        },
        "outputId": "7954c1cc-ceaa-470f-a4d8-1dfa354ce609"
      },
      "outputs": [
        {
          "output_type": "stream",
          "name": "stdout",
          "text": [
            "\n",
            "Missing Values di Setiap Kolom:\n",
            "R&D Spend          0\n",
            "Administration     0\n",
            "Marketing Spend    0\n",
            "State              0\n",
            "Profit             0\n",
            "dtype: int64\n"
          ]
        }
      ],
      "source": [
        "# 8\n",
        "missing_values = df.isnull().sum()\n",
        "print(\"\\nMissing Values di Setiap Kolom:\")\n",
        "print(missing_values)"
      ]
    },
    {
      "cell_type": "code",
      "execution_count": 16,
      "metadata": {
        "id": "XS3SV8--CeLJ",
        "colab": {
          "base_uri": "https://localhost:8080/"
        },
        "outputId": "bd66fec9-9640-4b4a-b60a-ae8d4027e5b9"
      },
      "outputs": [
        {
          "output_type": "stream",
          "name": "stdout",
          "text": [
            "\n",
            "Jumlah Data Setelah Menghapus Profit di Bawah 50000:\n",
            "46\n"
          ]
        }
      ],
      "source": [
        "# 9\n",
        "df_cleaned = df[df['Profit'] >= 50000]\n",
        "print(\"\\nJumlah Data Setelah Menghapus Profit di Bawah 50000:\")\n",
        "print(df_cleaned.shape[0])"
      ]
    },
    {
      "cell_type": "code",
      "execution_count": 17,
      "metadata": {
        "id": "mbt-zuboEm3A",
        "colab": {
          "base_uri": "https://localhost:8080/"
        },
        "outputId": "014bd32c-208a-4b79-84d9-6b695f582f71"
      },
      "outputs": [
        {
          "output_type": "stream",
          "name": "stdout",
          "text": [
            "\n",
            "DataFrame Setelah Diurutkan Berdasarkan Biaya Marketing:\n",
            "   R&D Spend  Administration  Marketing Spend       State     Profit\n",
            "0  165349.20       136897.80        471784.10    New York  192261.83\n",
            "1  162597.70       151377.59        443898.53  California  191792.06\n",
            "2  153441.51       101145.55        407934.54     Florida  191050.39\n",
            "3  144372.41       118671.85        383199.62    New York  182901.99\n",
            "4  142107.34        91391.77        366168.42     Florida  166187.94\n"
          ]
        }
      ],
      "source": [
        "# 10\n",
        "df_sorted = df_cleaned.sort_values(by='Marketing Spend', ascending=False)\n",
        "print(\"\\nDataFrame Setelah Diurutkan Berdasarkan Biaya Marketing:\")\n",
        "print(df_sorted.head())"
      ]
    },
    {
      "cell_type": "markdown",
      "metadata": {
        "id": "4OfOaA0xu1er"
      },
      "source": [
        "<h2> Data Cleaning"
      ]
    },
    {
      "cell_type": "markdown",
      "metadata": {
        "id": "Krb_r6quu1es"
      },
      "source": [
        "1. Import dataset berikut ke dalam dataframe.   \n",
        "   dataset : https://raw.githubusercontent.com/GTerrence/dataset/main/real_estate.csv\n",
        "2. Tampilkan 10 data random dari dataset di atas\n",
        "3. Cari informasi data dengan menggunakan fungsi describe\n",
        "4. Hapus kolom 'No' dan ubahlah nama kolom dalam dataframe menjadi 'transaction_date', 'house_age', 'distance_to_the_nearest_MRT_station', 'number_of_convinience_stores', 'latitude', 'longitude', 'house_price_of_unit_area'\n",
        "5. Cek apakah ada missing values dari masing-masing kolom"
      ]
    },
    {
      "cell_type": "code",
      "execution_count": 21,
      "metadata": {
        "id": "NAl8hGLHu1es"
      },
      "outputs": [],
      "source": [
        "# 1\n",
        "import pandas as pd\n",
        "\n",
        "# Mengimpor dataset dari URL\n",
        "df = pd.read_csv(\"https://raw.githubusercontent.com/GTerrence/dataset/main/real_estate.csv\")\n",
        "\n"
      ]
    },
    {
      "cell_type": "code",
      "execution_count": 22,
      "metadata": {
        "id": "YWjZAHGdFXhK",
        "colab": {
          "base_uri": "https://localhost:8080/"
        },
        "outputId": "e00d0d47-c285-4f6b-df47-2e2663b9c928"
      },
      "outputs": [
        {
          "output_type": "stream",
          "name": "stdout",
          "text": [
            "10 Data Random dari Dataset:\n",
            "      No  X1 transaction date  X2 house age  \\\n",
            "156  157             2013.583          30.7   \n",
            "269  270             2013.000          17.6   \n",
            "242  243             2012.833           2.0   \n",
            "44    45             2013.583           2.7   \n",
            "381  382             2013.417           8.0   \n",
            "312  313             2013.583          35.4   \n",
            "246  247             2013.417          16.4   \n",
            "67    68             2013.500           8.5   \n",
            "75    76             2013.500          12.3   \n",
            "160  161             2012.917           3.5   \n",
            "\n",
            "     X3 distance to the nearest MRT station  X4 number of convenience stores  \\\n",
            "156                              1264.73000                                0   \n",
            "269                               837.72330                                0   \n",
            "242                              2077.39000                                3   \n",
            "44                                533.47620                                4   \n",
            "381                               132.54690                                9   \n",
            "312                               318.52920                                9   \n",
            "246                               389.82190                                6   \n",
            "67                                104.81010                                5   \n",
            "75                               1360.13900                                1   \n",
            "160                                49.66105                                8   \n",
            "\n",
            "     X5 latitude  X6 longitude  Y house price of unit area  \n",
            "156     24.94883     121.52954                        18.3  \n",
            "269     24.96334     121.54767                        23.0  \n",
            "242     24.96357     121.51329                        33.4  \n",
            "44      24.97445     121.54765                        53.9  \n",
            "381     24.98298     121.53981                        47.3  \n",
            "312     24.97071     121.54069                        78.0  \n",
            "246     24.96412     121.54273                        40.6  \n",
            "67      24.96674     121.54067                        56.8  \n",
            "75      24.95204     121.54842                        29.5  \n",
            "160     24.95836     121.53756                        57.8  \n"
          ]
        }
      ],
      "source": [
        "# 2\n",
        "# Menampilkan 10 data random dari dataset\n",
        "print(\"10 Data Random dari Dataset:\")\n",
        "print(df.sample(10))"
      ]
    },
    {
      "cell_type": "code",
      "execution_count": 23,
      "metadata": {
        "id": "WYXICVmkFgAo",
        "colab": {
          "base_uri": "https://localhost:8080/"
        },
        "outputId": "1c1b463a-528d-43ca-d964-cc9a74341b65"
      },
      "outputs": [
        {
          "output_type": "stream",
          "name": "stdout",
          "text": [
            "\n",
            "Informasi Data Deskriptif:\n",
            "               No  X1 transaction date  X2 house age  \\\n",
            "count  414.000000           414.000000    414.000000   \n",
            "mean   207.500000          2013.148971     17.712560   \n",
            "std    119.655756             0.281967     11.392485   \n",
            "min      1.000000          2012.667000      0.000000   \n",
            "25%    104.250000          2012.917000      9.025000   \n",
            "50%    207.500000          2013.167000     16.100000   \n",
            "75%    310.750000          2013.417000     28.150000   \n",
            "max    414.000000          2013.583000     43.800000   \n",
            "\n",
            "       X3 distance to the nearest MRT station  \\\n",
            "count                              414.000000   \n",
            "mean                              1083.885689   \n",
            "std                               1262.109595   \n",
            "min                                 23.382840   \n",
            "25%                                289.324800   \n",
            "50%                                492.231300   \n",
            "75%                               1454.279000   \n",
            "max                               6488.021000   \n",
            "\n",
            "       X4 number of convenience stores  X5 latitude  X6 longitude  \\\n",
            "count                       414.000000   414.000000    414.000000   \n",
            "mean                          4.094203    24.969030    121.533361   \n",
            "std                           2.945562     0.012410      0.015347   \n",
            "min                           0.000000    24.932070    121.473530   \n",
            "25%                           1.000000    24.963000    121.528085   \n",
            "50%                           4.000000    24.971100    121.538630   \n",
            "75%                           6.000000    24.977455    121.543305   \n",
            "max                          10.000000    25.014590    121.566270   \n",
            "\n",
            "       Y house price of unit area  \n",
            "count                  414.000000  \n",
            "mean                    37.980193  \n",
            "std                     13.606488  \n",
            "min                      7.600000  \n",
            "25%                     27.700000  \n",
            "50%                     38.450000  \n",
            "75%                     46.600000  \n",
            "max                    117.500000  \n"
          ]
        }
      ],
      "source": [
        "# 3\n",
        "print(\"\\nInformasi Data Deskriptif:\")\n",
        "print(df.describe())"
      ]
    },
    {
      "cell_type": "code",
      "execution_count": 24,
      "metadata": {
        "id": "v1scoJ2bFraH",
        "colab": {
          "base_uri": "https://localhost:8080/"
        },
        "outputId": "d99a51d0-ff53-4967-dd2f-c84ca9a027d7"
      },
      "outputs": [
        {
          "output_type": "stream",
          "name": "stdout",
          "text": [
            "\n",
            "DataFrame Setelah Mengubah Nama Kolom:\n",
            "   transaction_date  house_age  distance_to_the_nearest_MRT_station  \\\n",
            "0          2012.917       32.0                             84.87882   \n",
            "1          2012.917       19.5                            306.59470   \n",
            "2          2013.583       13.3                            561.98450   \n",
            "3          2013.500       13.3                            561.98450   \n",
            "4          2012.833        5.0                            390.56840   \n",
            "\n",
            "   number_of_convinience_stores  latitude  longitude  house_price_of_unit_area  \n",
            "0                            10  24.98298  121.54024                      37.9  \n",
            "1                             9  24.98034  121.53951                      42.2  \n",
            "2                             5  24.98746  121.54391                      47.3  \n",
            "3                             5  24.98746  121.54391                      54.8  \n",
            "4                             5  24.97937  121.54245                      43.1  \n"
          ]
        }
      ],
      "source": [
        "# 4\n",
        "df.drop(columns=['No'], inplace=True)\n",
        "\n",
        "# Mengubah nama kolom\n",
        "df.columns = [\n",
        "    'transaction_date',\n",
        "    'house_age',\n",
        "    'distance_to_the_nearest_MRT_station',\n",
        "    'number_of_convinience_stores',\n",
        "    'latitude',\n",
        "    'longitude',\n",
        "    'house_price_of_unit_area'\n",
        "]\n",
        "\n",
        "print(\"\\nDataFrame Setelah Mengubah Nama Kolom:\")\n",
        "print(df.head())"
      ]
    },
    {
      "cell_type": "code",
      "execution_count": 25,
      "metadata": {
        "id": "O_EVut8-GE7b",
        "colab": {
          "base_uri": "https://localhost:8080/"
        },
        "outputId": "5a205c07-6e4d-4fb7-d4a5-45a62453e14d"
      },
      "outputs": [
        {
          "output_type": "stream",
          "name": "stdout",
          "text": [
            "\n",
            "Missing Values dari Masing-masing Kolom:\n",
            "transaction_date                       0\n",
            "house_age                              0\n",
            "distance_to_the_nearest_MRT_station    0\n",
            "number_of_convinience_stores           0\n",
            "latitude                               0\n",
            "longitude                              0\n",
            "house_price_of_unit_area               0\n",
            "dtype: int64\n"
          ]
        }
      ],
      "source": [
        "# 5\n",
        "missing_values = df.isnull().sum()\n",
        "print(\"\\nMissing Values dari Masing-masing Kolom:\")\n",
        "print(missing_values)"
      ]
    }
  ],
  "metadata": {
    "colab": {
      "provenance": []
    },
    "kernelspec": {
      "display_name": "Python 3 (ipykernel)",
      "language": "python",
      "name": "python3"
    },
    "language_info": {
      "codemirror_mode": {
        "name": "ipython",
        "version": 3
      },
      "file_extension": ".py",
      "mimetype": "text/x-python",
      "name": "python",
      "nbconvert_exporter": "python",
      "pygments_lexer": "ipython3",
      "version": "3.9.12"
    }
  },
  "nbformat": 4,
  "nbformat_minor": 0
}